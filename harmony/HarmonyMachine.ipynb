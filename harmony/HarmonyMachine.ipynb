{
 "cells": [
  {
   "cell_type": "code",
   "execution_count": 1,
   "id": "08c73f06-a340-44c8-84b6-a88123472897",
   "metadata": {
    "tags": []
   },
   "outputs": [],
   "source": [
    "from observer import CalibratedObserver, TrackedObject\n",
    "import dma.MechaCombat as mc\n",
    "QuantumSystem = mc.QuantumSystem"
   ]
  },
  {
   "cell_type": "code",
   "execution_count": 3,
   "id": "3fd951c3-4501-4d8e-9dbb-d6285efeb532",
   "metadata": {},
   "outputs": [],
   "source": [
    "class HarmonyMachine(CalibratedObserver):\n",
    "    def commitChanges(self, trackedObj):\n",
    "        super().commitChanges(trackedObj)"
   ]
  },
  {
   "cell_type": "code",
   "execution_count": null,
   "id": "55ddf209-272f-48a8-a287-0c61028b4b10",
   "metadata": {},
   "outputs": [],
   "source": [
    "class GameState:\n",
    "    states = [\"Add\", \"Movement\", \"Declare\", \"Resolve\"]\n",
    "    state = \"Add\"\n",
    "    round = 0\n",
    "    declaredActions = {}\n",
    "\n",
    "    @classmethod\n",
    "    def reset(cls):\n",
    "        cls.round = 0\n",
    "        cls.state = \"Add\"\n",
    "        cls.declaredActions = {}\n",
    "\n",
    "    @classmethod\n",
    "    def nextState(cls, currentState=None):\n",
    "        if currentState is not None:\n",
    "            assert currentState == cls.state, \"GameState mismatch. Cannot progress in this manner\"\n",
    "        currentState = cls.state\n",
    "        newState = currentState\n",
    "        if newState == \"Add\":\n",
    "            newState = \"Movement\"\n",
    "            cls.movements = []\n",
    "        elif newState == \"Movement\":\n",
    "            newState = \"Declare\"\n",
    "            cls.declaredActions = {}\n",
    "        elif newState == \"Declare\":\n",
    "            newState = \"Resolve\"\n",
    "        elif newState == \"Resolve\":\n",
    "            newState = \"Movement\"\n",
    "            cls.declaredActions = {}\n",
    "            cls.round += 1\n",
    "        cls.state = newState"
   ]
  }
 ],
 "metadata": {
  "kernelspec": {
   "display_name": "Python 3 (ipykernel)",
   "language": "python",
   "name": "python3"
  },
  "language_info": {
   "codemirror_mode": {
    "name": "ipython",
    "version": 3
   },
   "file_extension": ".py",
   "mimetype": "text/x-python",
   "name": "python",
   "nbconvert_exporter": "python",
   "pygments_lexer": "ipython3",
   "version": "3.11.2"
  }
 },
 "nbformat": 4,
 "nbformat_minor": 5
}
