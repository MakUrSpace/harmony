{
 "cells": [
  {
   "cell_type": "code",
   "execution_count": 1,
   "id": "8366b8ae-a550-480a-b9aa-acf75cd3db87",
   "metadata": {
    "execution": {
     "iopub.execute_input": "2024-11-24T02:19:44.491802Z",
     "iopub.status.busy": "2024-11-24T02:19:44.491519Z",
     "iopub.status.idle": "2024-11-24T02:19:44.505962Z",
     "shell.execute_reply": "2024-11-24T02:19:44.504839Z",
     "shell.execute_reply.started": "2024-11-24T02:19:44.491774Z"
    }
   },
   "outputs": [],
   "source": [
    "import json"
   ]
  },
  {
   "cell_type": "code",
   "execution_count": 2,
   "id": "eba7b8da-29ca-40dd-b2d4-9e5b55f1a1c4",
   "metadata": {
    "execution": {
     "iopub.execute_input": "2024-11-24T02:19:44.508145Z",
     "iopub.status.busy": "2024-11-24T02:19:44.507653Z",
     "iopub.status.idle": "2024-11-24T02:19:44.528779Z",
     "shell.execute_reply": "2024-11-24T02:19:44.528258Z",
     "shell.execute_reply.started": "2024-11-24T02:19:44.508106Z"
    }
   },
   "outputs": [],
   "source": [
    "from ipynb.fs.full.quantumsystem import QuantumSystem, qs"
   ]
  },
  {
   "cell_type": "code",
   "execution_count": 3,
   "id": "1521bd35-f41f-48dc-ae06-c8fa03c986e6",
   "metadata": {
    "execution": {
     "iopub.execute_input": "2024-11-24T02:19:44.530339Z",
     "iopub.status.busy": "2024-11-24T02:19:44.530054Z",
     "iopub.status.idle": "2024-11-24T02:19:44.535550Z",
     "shell.execute_reply": "2024-11-24T02:19:44.534185Z",
     "shell.execute_reply.started": "2024-11-24T02:19:44.530301Z"
    }
   },
   "outputs": [],
   "source": [
    "class XYLocation(QuantumSystem.System):\n",
    "    @classmethod\n",
    "    def get_location(cls, node_id):\n",
    "        return json.loads(super().get_relationship(node_id))\n",
    "\n",
    "    @classmethod\n",
    "    def set_location(cls, node_id, location):\n",
    "        old_value = super().get_relationship(node_id)\n",
    "        QuantumSystem.replace(node_id, cls.__name__, old_value, json.dumps(location))\n",
    "        return json.loads(super().get_relationship(node_id))\n",
    "    \n",
    "    @classmethod\n",
    "    def origin(cls):\n",
    "        return (0, 0)"
   ]
  },
  {
   "cell_type": "code",
   "execution_count": 4,
   "id": "4765d816-52fe-48b2-9358-ccb69301f5b0",
   "metadata": {
    "execution": {
     "iopub.execute_input": "2024-11-24T02:19:44.536566Z",
     "iopub.status.busy": "2024-11-24T02:19:44.536287Z",
     "iopub.status.idle": "2024-11-24T02:19:44.548762Z",
     "shell.execute_reply": "2024-11-24T02:19:44.548056Z",
     "shell.execute_reply.started": "2024-11-24T02:19:44.536540Z"
    }
   },
   "outputs": [],
   "source": [
    "class Elevation(QuantumSystem.System):\n",
    "    pass"
   ]
  },
  {
   "cell_type": "code",
   "execution_count": 5,
   "id": "e4fc095e-a95f-42ad-a2be-e61e564c0bf0",
   "metadata": {
    "execution": {
     "iopub.execute_input": "2024-11-24T02:19:44.549755Z",
     "iopub.status.busy": "2024-11-24T02:19:44.549481Z",
     "iopub.status.idle": "2024-11-24T02:19:44.561460Z",
     "shell.execute_reply": "2024-11-24T02:19:44.560564Z",
     "shell.execute_reply.started": "2024-11-24T02:19:44.549728Z"
    }
   },
   "outputs": [],
   "source": [
    "class Movement(QuantumSystem.System):\n",
    "    @classmethod\n",
    "    def has_jump_jets(cls, unit):\n",
    "        return cls.get_relationship(unit)[-1] == 'j'\n",
    "    \n",
    "    @classmethod\n",
    "    def get_movement_speed(cls, unit):\n",
    "        movement = cls.get_relationship(unit)\n",
    "        return int(movement[:-1]) if movement[-1] == 'j' else int(movement)"
   ]
  },
  {
   "cell_type": "code",
   "execution_count": 6,
   "id": "f670389b-5619-4e03-9832-dfe66a35ed38",
   "metadata": {
    "execution": {
     "iopub.execute_input": "2024-11-24T02:19:44.562824Z",
     "iopub.status.busy": "2024-11-24T02:19:44.562270Z",
     "iopub.status.idle": "2024-11-24T02:19:44.575087Z",
     "shell.execute_reply": "2024-11-24T02:19:44.574588Z",
     "shell.execute_reply.started": "2024-11-24T02:19:44.562790Z"
    }
   },
   "outputs": [],
   "source": [
    "class Move(QuantumSystem.HyperSystem):\n",
    "    systems = [XYLocation, Elevation, Movement]\n",
    "    \n",
    "    @classmethod\n",
    "    def move(cls, unit, delta):\n",
    "        movementSpeed = Movement.get_movement_speed(unit)\n",
    "        startingLocation = XYLocation.get_relationship(unit)\n",
    "        startingElevation = Elevation.get_relationship(unit)\n",
    "        startingLocation = json.dumps(json.loads(startingLocation) + [int(startingElevation)])\n",
    "        deltaDistance = sum([d * d for d in delta]) ** 0.5\n",
    "        assert deltaDistance < movementSpeed, f\"Cannot move unit further ({deltaDistance}) than its movement speed ({movementSpeed})\"\n",
    "        newLocation = [sL + lD for sL, lD in zip(json.loads(startingLocation), delta)]\n",
    "        xy = newLocation[:1]\n",
    "        z = newLocation[2]\n",
    "        QuantumSystem.replace(unit, XYLocation, startingLocation, json.dumps(xy))\n",
    "        QuantumSystem.replace(unit, Elevation, startingElevation, str(z))"
   ]
  },
  {
   "cell_type": "code",
   "execution_count": 7,
   "id": "a2e8cca4-59a4-4dbf-9efe-3cb63306a362",
   "metadata": {
    "execution": {
     "iopub.execute_input": "2024-11-24T02:19:44.576003Z",
     "iopub.status.busy": "2024-11-24T02:19:44.575742Z",
     "iopub.status.idle": "2024-11-24T02:19:44.923938Z",
     "shell.execute_reply": "2024-11-24T02:19:44.923416Z",
     "shell.execute_reply.started": "2024-11-24T02:19:44.575980Z"
    }
   },
   "outputs": [
    {
     "data": {
      "image/png": "[encoded data removed]",
      "text/plain": [
       "<IPython.core.display.Image object>"
      ]
     },
     "metadata": {},
     "output_type": "display_data"
    }
   ],
   "source": [
    "if __name__ == \"__main__\":\n",
    "    from IPython.display import display\n",
    "    qs.reset()\n",
    "    Move.build_system(\"foo\", {\"XYLocation\": json.dumps([1, 1]), \"Elevation\": \"0\", \"Movement\": \"8j\"})\n",
    "    display(qs.render())"
   ]
  }
 ],
 "metadata": {
  "kernelspec": {
   "display_name": "Python 3 (ipykernel)",
   "language": "python",
   "name": "python3"
  },
  "language_info": {
   "codemirror_mode": {
    "name": "ipython",
    "version": 3
   },
   "file_extension": ".py",
   "mimetype": "text/x-python",
   "name": "python",
   "nbconvert_exporter": "python",
   "pygments_lexer": "ipython3",
   "version": "3.11.2"
  }
 },
 "nbformat": 4,
 "nbformat_minor": 5
}
