{
 "cells": [
  {
   "cell_type": "code",
   "execution_count": null,
   "id": "50874f84-ebff-4b6c-bacf-b801ae8ca34b",
   "metadata": {},
   "outputs": [],
   "source": [
    "from ipynb.fs.full.quantumsystem import System, QuantumSystem"
   ]
  },
  {
   "cell_type": "code",
   "execution_count": null,
   "id": "2a04e001-2337-4a1f-ae7b-cc5eaeb31072",
   "metadata": {},
   "outputs": [],
   "source": [
    "class Faction(System):\n",
    "    \"\"\" A unified group in the game \"\"\"  \n",
    "    @classmethod\n",
    "    def build_system(cls, anchor, terminant):\n",
    "        \"\"\" Override default build system to enable lists of/multiple factions \"\"\"\n",
    "        if not isinstance(terminant, list):\n",
    "            terminants = [terminant]\n",
    "        else:\n",
    "            terminants = terminant\n",
    "        for terminant in terminants:\n",
    "            QuantumSystem.add_entity(anchor, **{cls.__name__: terminant})\n",
    "        return anchor\n",
    "    \n",
    "    @classmethod\n",
    "    def get_relationship(cls, entity_id):\n",
    "        stored_faction = super().get_relationship(entity_id)\n",
    "        if stored_faction is None:\n",
    "            return \"Unaligned\"\n",
    "        else:\n",
    "            return stored_faction"
   ]
  },
  {
   "cell_type": "code",
   "execution_count": null,
   "id": "8c89a563-bfca-4fa2-a319-7d2348901735",
   "metadata": {},
   "outputs": [],
   "source": []
  }
 ],
 "metadata": {
  "kernelspec": {
   "display_name": "Python 3 (ipykernel)",
   "language": "python",
   "name": "python3"
  },
  "language_info": {
   "codemirror_mode": {
    "name": "ipython",
    "version": 3
   },
   "file_extension": ".py",
   "mimetype": "text/x-python",
   "name": "python",
   "nbconvert_exporter": "python",
   "pygments_lexer": "ipython3",
   "version": "3.11.9"
  }
 },
 "nbformat": 4,
 "nbformat_minor": 5
}
